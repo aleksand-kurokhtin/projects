{
 "cells": [
  {
   "cell_type": "code",
   "execution_count": 1,
   "id": "d03cc51f",
   "metadata": {},
   "outputs": [],
   "source": [
    "import matplotlib.pyplot as plt\n",
    "import numpy as np\n",
    "import scipy\n",
    "\n",
    "from IPython.display import clear_output"
   ]
  },
  {
   "cell_type": "markdown",
   "id": "e610249d",
   "metadata": {},
   "source": [
    "## 0. Инициализация констант для системы вода-лёд"
   ]
  },
  {
   "cell_type": "code",
   "execution_count": 2,
   "id": "ae33ef9c",
   "metadata": {},
   "outputs": [],
   "source": [
    "rho_solid = 900  # solid density [kg/m^3]\n",
    "rho_liquid = 1000  # liquid density [kg/m^3]\n",
    "\n",
    "T_melting = 0  # meltin temperature [degree celcius]\n",
    "\n",
    "# thermal conductivity as temperature function\n",
    "def k(u, alpha):\n",
    "    '''\n",
    "    u - температура\n",
    "    alpha - параметр масштаба\n",
    "    '''\n",
    "    K_solid = 2.22  # thermal conductivity in solis [W/m*k]\n",
    "    K_liquid = 0.596  # thermal conductivity in liquid [W/m*k]\n",
    "\n",
    "    # применяем сглаживание функцией tanh\n",
    "    return 0.5*(K_solid + K_liquid) + np.tanh(alpha*u)*0.5*(K_liquid - K_solid)\n",
    "\n",
    "def c(u, alpha):\n",
    "    '''\n",
    "    u - температура\n",
    "    alpha - параметр масштаба\n",
    "    '''\n",
    "    c_solid = 42 # Дж/кг*K\n",
    "    c_liquid = 21\n",
    "    #melt_const = 3.33*10**3 # Дж/кг\n",
    "    melt_const = 0 # Дж/кг\n",
    "\n",
    "    # применяем сглаживание функцией tanh и его производной для разрыва \n",
    "    return 0.5*(c_solid + c_liquid) + np.tanh(alpha*u)*0.5*(c_liquid - c_solid) + 0.5*melt_const*alpha/np.cosh(alpha*u)**2"
   ]
  },
  {
   "cell_type": "markdown",
   "id": "2072a7f8",
   "metadata": {},
   "source": [
    "## 1. Реализация"
   ]
  },
  {
   "cell_type": "code",
   "execution_count": 3,
   "id": "357df66e",
   "metadata": {},
   "outputs": [],
   "source": [
    "# Метод прогонки\n",
    "\n",
    "def thomas_algorithm(N, a, b, c, d):\n",
    "    '''\n",
    "    solves Ax = d, where A is a tridiagonal matrix consisting of vectors a, b, c\n",
    "    N = number of equations\n",
    "    a[] = subdiagonal\n",
    "    b[] = main diagonal\n",
    "    c[] = superdiagonal\n",
    "    d[] = right part of equasion\n",
    "    '''\n",
    "    P, Q = np.zeros(N), np.zeros(N)\n",
    "    P[0], Q[0] = c[0]/b[0], d[0]/b[0]\n",
    "    \n",
    "    for i in range(1, N):\n",
    "        P[i] = c[i]/(b[i] - a[i]*P[i-1])\n",
    "        Q[i] = (d[i] - a[i]*Q[i-1])/(b[i] - a[i]*P[i-1])\n",
    "        \n",
    "    ans = np.zeros(N)\n",
    "    ans[N-1] = Q[N-1]\n",
    "    for i in range(N-2, -1, -1):\n",
    "        ans[i] = Q[i] - P[i]*ans[i+1]\n",
    "    return ans"
   ]
  },
  {
   "cell_type": "code",
   "execution_count": 4,
   "id": "2b213c0d",
   "metadata": {},
   "outputs": [],
   "source": [
    "# Визуализатор\n",
    "\n",
    "def show_progress(u, R, h, T):\n",
    "    '''\n",
    "    Визуализация процесса распространения волны.\n",
    "    '''\n",
    "    x = np.arange(0, R+h, h)\n",
    "    # Стираем предыдущий вывод в тот момент, когда появится следующий\n",
    "    clear_output(wait=True)\n",
    "\n",
    "    # Строим новый график\n",
    "    plt.figure(figsize=(6,12))\n",
    "    fig, (ax1, ax2) = plt.subplots(1, 2)\n",
    "    \n",
    "    theta = np.linspace(0, 2*np.pi, 100)\n",
    "    R, Theta = np.meshgrid(x, theta) \n",
    "    u_polar = [u for i in range(100)]\n",
    "    ax1.pcolormesh(R*np.cos(Theta), R*np.sin(Theta), u_polar)\n",
    "    \n",
    "    ax2.plot(x, u)\n",
    "    ax2.set_xlabel('Пространственная координата')\n",
    "    ax2.set_ylabel('Температура')\n",
    "    \n",
    "    plt.title(f'T = {T}')\n",
    "    plt.grid()\n",
    "    plt.show()"
   ]
  },
  {
   "cell_type": "code",
   "execution_count": 5,
   "id": "12501cd7",
   "metadata": {},
   "outputs": [],
   "source": [
    "# Визуализатор\n",
    "\n",
    "def show_progress(u, R, h, T):\n",
    "    '''\n",
    "    Визуализация процесса распространения волны.\n",
    "    '''\n",
    "    x = np.arange(0, R+h, h)\n",
    "    # Стираем предыдущий вывод в тот момент, когда появится следующий\n",
    "    clear_output(wait=True)\n",
    "\n",
    "    # Строим новый график\n",
    "    plt.figure(figsize=(6,6))\n",
    "    plt.plot(x, u)\n",
    "    plt.xlabel('Пространственная координата')\n",
    "    plt.ylabel('Температура')\n",
    "    \n",
    "    plt.title(f'T = {T}')\n",
    "    plt.grid()\n",
    "    plt.show()"
   ]
  },
  {
   "cell_type": "code",
   "execution_count": 6,
   "id": "bca9fbdd",
   "metadata": {},
   "outputs": [],
   "source": [
    "# Функция, задающая граничное условие на температуру\n",
    "\n",
    "def f_border(t):\n",
    "    '''\n",
    "    t - время\n",
    "    '''\n",
    "    return -5"
   ]
  },
  {
   "cell_type": "code",
   "execution_count": 7,
   "id": "3f7c97ae",
   "metadata": {},
   "outputs": [],
   "source": [
    "def implicit_scheme(u, c, k, R, T, h, courant, alpha):\n",
    "    '''\n",
    "    courant - число Куранта, в нелинейной задаче примем h^2/tau\n",
    "    R - радиус цилиндра\n",
    "    T - максимальное время, задаёт область во времени\n",
    "    h - шаг по пространству\n",
    "    u - начальное состояние\n",
    "    c - функция теплоемкости от температуры\n",
    "    k - функция теплопроводности от температуры\n",
    "    alpha - параметр масштаба  сглаживания\n",
    "    '''\n",
    "\n",
    "    # зададим параметры метода\n",
    "    tau = courant * h ** 2  # шаг по времени\n",
    "    N = len(u)  # количество точек сетки по пространству\n",
    "    \n",
    "    show_progress(u, R, h, 0)\n",
    "    for i in range(1, int(T / tau) + 1):\n",
    "        # неявная схема с нелинейностью на нижнем слое\n",
    "        '''\n",
    "        a[] = subdiagonal\n",
    "        b[] = main diagonal\n",
    "        c[] = superdiagonal\n",
    "        d[] = right part of equasion\n",
    "\n",
    "        левое граничное условие (r=0) на производную\n",
    "        правое граничное условие (r=R) на значение\n",
    "        '''\n",
    "        a_thomas = [0] + [-courant * (1 - 1 / (2*m)) * k((u[m-1]+u[m])/2, alpha) for m in range(1, N - 1)] + [0]\n",
    "        b_thomas = [-1] + [c(u[m], alpha) + courant * ((1 - 1 / (2*m)) * k((u[m-1]+u[m])/2, alpha) + (1 + 1 / (2*m)) * k((u[m]+u[m+1])/2, alpha)) for m in\n",
    "                    range(1, N - 1)] + [1]\n",
    "        c_thomas = [1] + [-courant * (1 + 1 / (2*m)) * k((u[m]+u[m+1])/2, alpha) for m in range(1, N - 1)] + [0]\n",
    "        d_thomas = [0] + list(u[1:-1]*c(u[1:-1], alpha)) + [f_border(i * tau)]\n",
    "        u = thomas_algorithm(N, a_thomas, b_thomas, c_thomas, d_thomas)\n",
    "\n",
    "        \n",
    "        if i % 100 == 0:\n",
    "            show_progress(u, R, h, i*tau)\n",
    "        return u"
   ]
  },
  {
   "cell_type": "code",
   "execution_count": 8,
   "id": "a99e3ca0",
   "metadata": {},
   "outputs": [
    {
     "data": {
      "text/plain": [
       "(array([0. , 0.1, 0.2, 0.3, 0.4, 0.5, 0.6, 0.7, 0.8, 0.9]),\n",
       " array([0.05, 0.15, 0.25, 0.35, 0.45, 0.55, 0.65, 0.75]),\n",
       " array([0.15, 0.25, 0.35, 0.45, 0.55, 0.65, 0.75, 0.85]))"
      ]
     },
     "execution_count": 8,
     "metadata": {},
     "output_type": "execute_result"
    }
   ],
   "source": [
    "u = np.arange(0, 1, 0.1)\n",
    "u, (u[:-2] + u[1:-1])/2, (u[1:-1] + u[2:])/2"
   ]
  },
  {
   "cell_type": "code",
   "execution_count": 10,
   "id": "148333c2",
   "metadata": {},
   "outputs": [
    {
     "data": {
      "image/png": "[encoded data removed]",
      "text/plain": [
       "<Figure size 600x600 with 1 Axes>"
      ]
     },
     "metadata": {},
     "output_type": "display_data"
    }
   ],
   "source": [
    "\n",
    "R = 1\n",
    "T = 15\n",
    "h = 0.01\n",
    "courant = 10\n",
    "alpha = 5\n",
    "\n",
    "u0 = np.zeros(int(1/h)+1) + 3\n",
    "\n",
    "u = implicit_scheme(u0, c, k, R, T, h, courant, alpha)"
   ]
  },
  {
   "cell_type": "code",
   "execution_count": null,
   "id": "395dd091",
   "metadata": {},
   "outputs": [],
   "source": []
  }
 ],
 "metadata": {
  "kernelspec": {
   "display_name": "Python 3 (ipykernel)",
   "language": "python",
   "name": "python3"
  },
  "language_info": {
   "codemirror_mode": {
    "name": "ipython",
    "version": 3
   },
   "file_extension": ".py",
   "mimetype": "text/x-python",
   "name": "python",
   "nbconvert_exporter": "python",
   "pygments_lexer": "ipython3",
   "version": "3.11.1"
  }
 },
 "nbformat": 4,
 "nbformat_minor": 5
}
